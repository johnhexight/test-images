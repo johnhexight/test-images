{
 "cells": [
  {
   "cell_type": "markdown",
   "id": "ac65c7f7-e141-4b7a-970d-7571549bf639",
   "metadata": {},
   "source": [
    "![title](eod-futures-prices-updates.drawio.png)"
   ]
  },
  {
   "cell_type": "markdown",
   "id": "60795d9f-0321-4ea5-9935-8a13739f3f79",
   "metadata": {},
   "source": [
    "![test](images/eod-futures-prices-updates.drawio.png)"
   ]
  },
  {
   "cell_type": "code",
   "execution_count": 1,
   "id": "c416d312-d53a-4cf3-8294-8006c3fc7a21",
   "metadata": {},
   "outputs": [],
   "source": [
    "import pandas as pd\n",
    "from hexcast.clients import CMEFTPClient, RedisClient"
   ]
  },
  {
   "cell_type": "code",
   "execution_count": 2,
   "id": "0524fd89-0fce-41b2-95ac-f2a201deb650",
   "metadata": {},
   "outputs": [],
   "source": [
    "cme = CMEFTPClient()"
   ]
  },
  {
   "cell_type": "markdown",
   "id": "dfee3a1c-11c1-43ed-ae1d-1406c8080c6e",
   "metadata": {},
   "source": [
    "### list files\n",
    "\n",
    "Here are some examples of files that can be retrieved.  `to_redis` is set to False so that they are not registered in the `redis_key`."
   ]
  },
  {
   "cell_type": "code",
   "execution_count": 7,
   "id": "8617b677-720d-4d01-acc5-b12053b8316e",
   "metadata": {},
   "outputs": [
    {
     "data": {
      "text/plain": [
       "['Expiring_Options_UnderlyingProduct_SettlementReport.csv',\n",
       " 'Expiring_Options_UnderlyingProduct_SettlementReport_20200901.csv',\n",
       " 'Expiring_Options_UnderlyingProduct_SettlementReport_20200902.csv',\n",
       " 'Expiring_Options_UnderlyingProduct_SettlementReport_20200903.csv',\n",
       " 'Expiring_Options_UnderlyingProduct_SettlementReport_20200904.csv']"
      ]
     },
     "execution_count": 7,
     "metadata": {},
     "output_type": "execute_result"
    }
   ],
   "source": [
    "listing = cme.ls(\n",
    "    # redis_key: str = \"files:cmegroup:settle\",\n",
    "    to_redis = False,\n",
    "    files = \"*.csv\"\n",
    ")\n",
    "listing[:5]"
   ]
  },
  {
   "cell_type": "code",
   "execution_count": 13,
   "id": "f6090667-9bcb-4b9a-9392-b71876d69168",
   "metadata": {},
   "outputs": [
    {
     "data": {
      "text/plain": [
       "['comex.settle.20220916.s.csv.zip',\n",
       " 'comex.settle.20220916.s.txt.zip',\n",
       " 'comex.settle.20220916.s.xml.zip',\n",
       " 'comex.settle.20220919.s.csv.zip',\n",
       " 'comex.settle.20220919.s.txt.zip']"
      ]
     },
     "execution_count": 13,
     "metadata": {},
     "output_type": "execute_result"
    }
   ],
   "source": [
    "listing = cme.ls(\n",
    "    # redis_key: str = \"files:cmegroup:settle\",\n",
    "    to_redis = False,\n",
    "    files = \"comex*.zip\"\n",
    ")\n",
    "listing[:5]"
   ]
  },
  {
   "cell_type": "markdown",
   "id": "2d24b7db-0662-4534-8921-a56944d712c9",
   "metadata": {},
   "source": [
    "### get future settlements\n",
    "\n",
    "There are 2 convenience files that we use for our core price updates:"
   ]
  },
  {
   "cell_type": "code",
   "execution_count": 14,
   "id": "181ef1f0-a69a-40fd-b24f-81ec58d210dc",
   "metadata": {},
   "outputs": [
    {
     "data": {
      "text/plain": [
       "['comex_future.csv', 'nymex_future.csv']"
      ]
     },
     "execution_count": 14,
     "metadata": {},
     "output_type": "execute_result"
    }
   ],
   "source": [
    "listing = cme.ls(\n",
    "    # redis_key: str = \"files:cmegroup:settle\",\n",
    "    to_redis = False,\n",
    "    files = \"*future.csv\"\n",
    ")\n",
    "listing[:5]"
   ]
  },
  {
   "cell_type": "markdown",
   "id": "380f7e10-360e-4f8a-a47a-5c1acb28b170",
   "metadata": {},
   "source": [
    "`get_future_settles` retrieves the files and saves them in the S3 cache:"
   ]
  },
  {
   "cell_type": "code",
   "execution_count": null,
   "id": "755f7537-6493-4ecf-b4e7-f542737af163",
   "metadata": {},
   "outputs": [],
   "source": [
    "cme.get_future_settles()"
   ]
  },
  {
   "cell_type": "markdown",
   "id": "22c4c16b-b9a1-4883-b439-8ca6737a8a86",
   "metadata": {},
   "source": [
    "Note that these files are kept in a separate cache `hexight-ds-archives/cme/settle`"
   ]
  },
  {
   "cell_type": "code",
   "execution_count": 22,
   "id": "d18a818a-36fe-4317-a538-794ff2337f81",
   "metadata": {},
   "outputs": [
    {
     "data": {
      "text/html": [
       "<div>\n",
       "<style scoped>\n",
       "    .dataframe tbody tr th:only-of-type {\n",
       "        vertical-align: middle;\n",
       "    }\n",
       "\n",
       "    .dataframe tbody tr th {\n",
       "        vertical-align: top;\n",
       "    }\n",
       "\n",
       "    .dataframe thead th {\n",
       "        text-align: right;\n",
       "    }\n",
       "</style>\n",
       "<table border=\"1\" class=\"dataframe\">\n",
       "  <thead>\n",
       "    <tr style=\"text-align: right;\">\n",
       "      <th></th>\n",
       "      <th>PRODUCT SYMBOL</th>\n",
       "      <th>CONTRACT MONTH</th>\n",
       "      <th>CONTRACT YEAR</th>\n",
       "      <th>CONTRACT DAY</th>\n",
       "      <th>CONTRACT</th>\n",
       "      <th>PRODUCT DESCRIPTION</th>\n",
       "      <th>OPEN</th>\n",
       "      <th>HIGH</th>\n",
       "      <th>HIGH AB INDICATOR</th>\n",
       "      <th>LOW</th>\n",
       "      <th>LOW AB INDICATOR</th>\n",
       "      <th>LAST</th>\n",
       "      <th>LAST AB INDICATOR</th>\n",
       "      <th>SETTLE</th>\n",
       "      <th>PT CHG</th>\n",
       "      <th>EST. VOL</th>\n",
       "      <th>PRIOR SETTLE</th>\n",
       "      <th>PRIOR VOL</th>\n",
       "      <th>PRIOR INT</th>\n",
       "      <th>TRADEDATE</th>\n",
       "    </tr>\n",
       "  </thead>\n",
       "  <tbody>\n",
       "    <tr>\n",
       "      <th>377</th>\n",
       "      <td>MGC</td>\n",
       "      <td>12</td>\n",
       "      <td>2023</td>\n",
       "      <td>NaN</td>\n",
       "      <td>MGCZ23</td>\n",
       "      <td>Micro Gold Futures</td>\n",
       "      <td>1742.5</td>\n",
       "      <td>1742.5</td>\n",
       "      <td>NaN</td>\n",
       "      <td>1733.0</td>\n",
       "      <td>NaN</td>\n",
       "      <td>1733.1</td>\n",
       "      <td>B</td>\n",
       "      <td>1737.8000</td>\n",
       "      <td>-24.6</td>\n",
       "      <td>18</td>\n",
       "      <td>1762.40</td>\n",
       "      <td>4.0</td>\n",
       "      <td>40.0</td>\n",
       "      <td>09/23/2022</td>\n",
       "    </tr>\n",
       "    <tr>\n",
       "      <th>416</th>\n",
       "      <td>MHG</td>\n",
       "      <td>7</td>\n",
       "      <td>2026</td>\n",
       "      <td>NaN</td>\n",
       "      <td>MHGN26</td>\n",
       "      <td>Micro Copper Futures</td>\n",
       "      <td>NaN</td>\n",
       "      <td>NaN</td>\n",
       "      <td>NaN</td>\n",
       "      <td>NaN</td>\n",
       "      <td>NaN</td>\n",
       "      <td>NaN</td>\n",
       "      <td>NaN</td>\n",
       "      <td>3.4675</td>\n",
       "      <td>-.1225</td>\n",
       "      <td>0</td>\n",
       "      <td>3.59</td>\n",
       "      <td>NaN</td>\n",
       "      <td>NaN</td>\n",
       "      <td>09/23/2022</td>\n",
       "    </tr>\n",
       "    <tr>\n",
       "      <th>329</th>\n",
       "      <td>HRC</td>\n",
       "      <td>8</td>\n",
       "      <td>2024</td>\n",
       "      <td>NaN</td>\n",
       "      <td>HRCQ24</td>\n",
       "      <td>Nymex Steel Futures</td>\n",
       "      <td>NaN</td>\n",
       "      <td>NaN</td>\n",
       "      <td>NaN</td>\n",
       "      <td>NaN</td>\n",
       "      <td>NaN</td>\n",
       "      <td>NaN</td>\n",
       "      <td>NaN</td>\n",
       "      <td>840.0000</td>\n",
       "      <td>-10.00</td>\n",
       "      <td>0</td>\n",
       "      <td>850.00</td>\n",
       "      <td>NaN</td>\n",
       "      <td>NaN</td>\n",
       "      <td>09/23/2022</td>\n",
       "    </tr>\n",
       "  </tbody>\n",
       "</table>\n",
       "</div>"
      ],
      "text/plain": [
       "    PRODUCT SYMBOL  CONTRACT MONTH  CONTRACT YEAR  CONTRACT DAY CONTRACT  \\\n",
       "377            MGC              12           2023           NaN   MGCZ23   \n",
       "416            MHG               7           2026           NaN   MHGN26   \n",
       "329            HRC               8           2024           NaN   HRCQ24   \n",
       "\n",
       "      PRODUCT DESCRIPTION    OPEN    HIGH HIGH AB INDICATOR     LOW  \\\n",
       "377    Micro Gold Futures  1742.5  1742.5               NaN  1733.0   \n",
       "416  Micro Copper Futures     NaN     NaN               NaN     NaN   \n",
       "329   Nymex Steel Futures     NaN     NaN               NaN     NaN   \n",
       "\n",
       "    LOW AB INDICATOR    LAST LAST AB INDICATOR     SETTLE  PT CHG  EST. VOL  \\\n",
       "377              NaN  1733.1                 B  1737.8000   -24.6        18   \n",
       "416              NaN     NaN               NaN     3.4675  -.1225         0   \n",
       "329              NaN     NaN               NaN   840.0000  -10.00         0   \n",
       "\n",
       "     PRIOR SETTLE  PRIOR VOL  PRIOR INT   TRADEDATE  \n",
       "377       1762.40        4.0       40.0  09/23/2022  \n",
       "416          3.59        NaN        NaN  09/23/2022  \n",
       "329        850.00        NaN        NaN  09/23/2022  "
      ]
     },
     "execution_count": 22,
     "metadata": {},
     "output_type": "execute_result"
    }
   ],
   "source": [
    "pd.read_csv(\"s3://hexight-ds-archives/cme/settle/comex_future.csv\").sample(3)"
   ]
  },
  {
   "cell_type": "markdown",
   "id": "eae5b099-a34e-4732-804c-a7942a4ac9cc",
   "metadata": {},
   "source": [
    "### clean futures settlements"
   ]
  },
  {
   "cell_type": "markdown",
   "id": "72087b83-cdcd-44fa-924c-992659a9224f",
   "metadata": {},
   "source": [
    "`clean_future_files` renames and drops columns, and augments the tables with a number of new fields such as `weekday`, `dayofyear`, etc...  \n",
    "\n",
    "For convenience, the columns are renamed using redis hash keys (python dicts) `renames:CME_SETTLE:future`, and the dropped columns are contained in redis lists `drops:CME_SETTLE:future`."
   ]
  },
  {
   "cell_type": "code",
   "execution_count": null,
   "id": "edbd3722-19dd-49c8-b92c-65934f293100",
   "metadata": {},
   "outputs": [],
   "source": [
    "cme.clean_future_files()"
   ]
  },
  {
   "cell_type": "markdown",
   "id": "9af432d8-5ea6-48d3-ac76-4e2ff3cd6bec",
   "metadata": {},
   "source": [
    "These daily files are then saved to S3 (as parquet) before being merged into the histories.\n",
    "\n",
    "Note that these files are kept in a separate cache `hexight-ds-archives/cme/settle`"
   ]
  },
  {
   "cell_type": "code",
   "execution_count": 28,
   "id": "835be09d-9863-418b-a389-5fe3cc8d62ed",
   "metadata": {},
   "outputs": [
    {
     "data": {
      "text/html": [
       "<div>\n",
       "<style scoped>\n",
       "    .dataframe tbody tr th:only-of-type {\n",
       "        vertical-align: middle;\n",
       "    }\n",
       "\n",
       "    .dataframe tbody tr th {\n",
       "        vertical-align: top;\n",
       "    }\n",
       "\n",
       "    .dataframe thead th {\n",
       "        text-align: right;\n",
       "    }\n",
       "</style>\n",
       "<table border=\"1\" class=\"dataframe\">\n",
       "  <thead>\n",
       "    <tr style=\"text-align: right;\">\n",
       "      <th></th>\n",
       "      <th>product</th>\n",
       "      <th>code</th>\n",
       "      <th>year</th>\n",
       "      <th>symbol</th>\n",
       "      <th>desc</th>\n",
       "      <th>open</th>\n",
       "      <th>hi</th>\n",
       "      <th>lo</th>\n",
       "      <th>last</th>\n",
       "      <th>close</th>\n",
       "      <th>pct</th>\n",
       "      <th>volume</th>\n",
       "      <th>prior_settle</th>\n",
       "      <th>prior_vol</th>\n",
       "      <th>prior_int</th>\n",
       "      <th>date</th>\n",
       "      <th>weekday</th>\n",
       "      <th>yearday</th>\n",
       "      <th>yearmonth</th>\n",
       "    </tr>\n",
       "  </thead>\n",
       "  <tbody>\n",
       "    <tr>\n",
       "      <th>2276</th>\n",
       "      <td>CL</td>\n",
       "      <td>F</td>\n",
       "      <td>2022</td>\n",
       "      <td>CLF25</td>\n",
       "      <td>Light Sweet Crude Oil Futures</td>\n",
       "      <td>66.0</td>\n",
       "      <td>66.0</td>\n",
       "      <td>66.0</td>\n",
       "      <td>66.0</td>\n",
       "      <td>65.74</td>\n",
       "      <td>-2.39</td>\n",
       "      <td>22</td>\n",
       "      <td>68.13</td>\n",
       "      <td>4.0</td>\n",
       "      <td>2708.0</td>\n",
       "      <td>2022-09-23</td>\n",
       "      <td>4</td>\n",
       "      <td>266</td>\n",
       "      <td>9</td>\n",
       "    </tr>\n",
       "    <tr>\n",
       "      <th>2292</th>\n",
       "      <td>CL</td>\n",
       "      <td>K</td>\n",
       "      <td>2022</td>\n",
       "      <td>CLK26</td>\n",
       "      <td>Light Sweet Crude Oil Futures</td>\n",
       "      <td>NaN</td>\n",
       "      <td>NaN</td>\n",
       "      <td>NaN</td>\n",
       "      <td>NaN</td>\n",
       "      <td>61.36</td>\n",
       "      <td>-1.85</td>\n",
       "      <td>0</td>\n",
       "      <td>63.21</td>\n",
       "      <td>NaN</td>\n",
       "      <td>26.0</td>\n",
       "      <td>2022-09-23</td>\n",
       "      <td>4</td>\n",
       "      <td>266</td>\n",
       "      <td>9</td>\n",
       "    </tr>\n",
       "    <tr>\n",
       "      <th>2320</th>\n",
       "      <td>CL</td>\n",
       "      <td>U</td>\n",
       "      <td>2022</td>\n",
       "      <td>CLU28</td>\n",
       "      <td>Light Sweet Crude Oil Futures</td>\n",
       "      <td>NaN</td>\n",
       "      <td>NaN</td>\n",
       "      <td>NaN</td>\n",
       "      <td>NaN</td>\n",
       "      <td>56.44</td>\n",
       "      <td>-1.49</td>\n",
       "      <td>0</td>\n",
       "      <td>57.93</td>\n",
       "      <td>NaN</td>\n",
       "      <td>NaN</td>\n",
       "      <td>2022-09-23</td>\n",
       "      <td>4</td>\n",
       "      <td>266</td>\n",
       "      <td>9</td>\n",
       "    </tr>\n",
       "  </tbody>\n",
       "</table>\n",
       "</div>"
      ],
      "text/plain": [
       "     product code  year symbol                           desc  open    hi  \\\n",
       "2276      CL    F  2022  CLF25  Light Sweet Crude Oil Futures  66.0  66.0   \n",
       "2292      CL    K  2022  CLK26  Light Sweet Crude Oil Futures   NaN   NaN   \n",
       "2320      CL    U  2022  CLU28  Light Sweet Crude Oil Futures   NaN   NaN   \n",
       "\n",
       "        lo  last  close    pct  volume  prior_settle  prior_vol  prior_int  \\\n",
       "2276  66.0  66.0  65.74  -2.39      22         68.13        4.0     2708.0   \n",
       "2292   NaN   NaN  61.36  -1.85       0         63.21        NaN       26.0   \n",
       "2320   NaN   NaN  56.44  -1.49       0         57.93        NaN        NaN   \n",
       "\n",
       "           date  weekday  yearday  yearmonth  \n",
       "2276 2022-09-23        4      266          9  \n",
       "2292 2022-09-23        4      266          9  \n",
       "2320 2022-09-23        4      266          9  "
      ]
     },
     "execution_count": 28,
     "metadata": {},
     "output_type": "execute_result"
    }
   ],
   "source": [
    "pd.read_parquet(\"s3://hexight-ds-archives/cme/settle/nymex_future.pqt\").query(\"product=='CL'\").sample(3)"
   ]
  },
  {
   "cell_type": "markdown",
   "id": "fdf78dd9-a7d1-4bee-8e2f-4f543d7504af",
   "metadata": {},
   "source": [
    "### merging to regular histories"
   ]
  },
  {
   "cell_type": "markdown",
   "id": "e972fc9e-051f-4417-bb04-1057b546857a",
   "metadata": {},
   "source": [
    "The daily settlements produced up to this point are then merged into history files on a contract-by-contract basis.  In other words, there is one file for the nymex crude oil futures contract `CL`, one file for the cme lumber contract `LB`, one file for the hot rolled coil steel contract comex `HRC` contract, etc...  \n",
    "\n",
    "Note that these files are kept in a seerate cache `hexight-ds-archives/futures`\n",
    "\n",
    "\n",
    "For example"
   ]
  },
  {
   "cell_type": "code",
   "execution_count": 24,
   "id": "587eb358-29fe-4986-b01c-7d4c904b3e18",
   "metadata": {},
   "outputs": [
    {
     "data": {
      "text/html": [
       "<div>\n",
       "<style scoped>\n",
       "    .dataframe tbody tr th:only-of-type {\n",
       "        vertical-align: middle;\n",
       "    }\n",
       "\n",
       "    .dataframe tbody tr th {\n",
       "        vertical-align: top;\n",
       "    }\n",
       "\n",
       "    .dataframe thead th {\n",
       "        text-align: right;\n",
       "    }\n",
       "</style>\n",
       "<table border=\"1\" class=\"dataframe\">\n",
       "  <thead>\n",
       "    <tr style=\"text-align: right;\">\n",
       "      <th></th>\n",
       "      <th>date</th>\n",
       "      <th>symbol</th>\n",
       "      <th>open</th>\n",
       "      <th>hi</th>\n",
       "      <th>lo</th>\n",
       "      <th>close</th>\n",
       "      <th>volume</th>\n",
       "      <th>oi</th>\n",
       "      <th>year</th>\n",
       "      <th>weekday</th>\n",
       "      <th>yearday</th>\n",
       "      <th>yearmonth</th>\n",
       "    </tr>\n",
       "  </thead>\n",
       "  <tbody>\n",
       "    <tr>\n",
       "      <th>6386</th>\n",
       "      <td>2006-04-26</td>\n",
       "      <td>CLU09</td>\n",
       "      <td>71.070000</td>\n",
       "      <td>71.070000</td>\n",
       "      <td>71.070000</td>\n",
       "      <td>71.070000</td>\n",
       "      <td>0</td>\n",
       "      <td>0</td>\n",
       "      <td>2006</td>\n",
       "      <td>2</td>\n",
       "      <td>116</td>\n",
       "      <td>4</td>\n",
       "    </tr>\n",
       "    <tr>\n",
       "      <th>213760</th>\n",
       "      <td>2002-11-04</td>\n",
       "      <td>CLX04</td>\n",
       "      <td>22.809999</td>\n",
       "      <td>22.809999</td>\n",
       "      <td>22.809999</td>\n",
       "      <td>22.809999</td>\n",
       "      <td>0</td>\n",
       "      <td>37</td>\n",
       "      <td>2002</td>\n",
       "      <td>0</td>\n",
       "      <td>308</td>\n",
       "      <td>11</td>\n",
       "    </tr>\n",
       "    <tr>\n",
       "      <th>30415</th>\n",
       "      <td>1998-05-29</td>\n",
       "      <td>CLX98</td>\n",
       "      <td>16.379999</td>\n",
       "      <td>16.690001</td>\n",
       "      <td>16.340000</td>\n",
       "      <td>16.690001</td>\n",
       "      <td>0</td>\n",
       "      <td>0</td>\n",
       "      <td>1998</td>\n",
       "      <td>4</td>\n",
       "      <td>149</td>\n",
       "      <td>5</td>\n",
       "    </tr>\n",
       "  </tbody>\n",
       "</table>\n",
       "</div>"
      ],
      "text/plain": [
       "             date symbol       open         hi         lo      close  volume  \\\n",
       "6386   2006-04-26  CLU09  71.070000  71.070000  71.070000  71.070000       0   \n",
       "213760 2002-11-04  CLX04  22.809999  22.809999  22.809999  22.809999       0   \n",
       "30415  1998-05-29  CLX98  16.379999  16.690001  16.340000  16.690001       0   \n",
       "\n",
       "        oi  year  weekday  yearday  yearmonth  \n",
       "6386     0  2006        2      116          4  \n",
       "213760  37  2002        0      308         11  \n",
       "30415    0  1998        4      149          5  "
      ]
     },
     "execution_count": 24,
     "metadata": {},
     "output_type": "execute_result"
    }
   ],
   "source": [
    "pd.read_parquet(\"s3://hexight-ds-archives/futures/CL.pqt\").sample(3)"
   ]
  }
 ],
 "metadata": {
  "kernelspec": {
   "display_name": "Python 3 (ipykernel)",
   "language": "python",
   "name": "python3"
  },
  "language_info": {
   "codemirror_mode": {
    "name": "ipython",
    "version": 3
   },
   "file_extension": ".py",
   "mimetype": "text/x-python",
   "name": "python",
   "nbconvert_exporter": "python",
   "pygments_lexer": "ipython3",
   "version": "3.10.6"
  }
 },
 "nbformat": 4,
 "nbformat_minor": 5
}
